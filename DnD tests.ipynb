{
 "cells": [
  {
   "cell_type": "code",
   "execution_count": 1,
   "metadata": {},
   "outputs": [],
   "source": [
    "import re\n",
    "\n",
    "notation = 'd3'"
   ]
  },
  {
   "cell_type": "code",
   "execution_count": 2,
   "metadata": {},
   "outputs": [],
   "source": [
    "from DnD_battler import Dice, AbilityDie, SkillRoll, AttackRoll"
   ]
  },
  {
   "cell_type": "code",
   "execution_count": 3,
   "metadata": {},
   "outputs": [],
   "source": [
    "dice = Dice.from_notation('2d6+3')"
   ]
  },
  {
   "cell_type": "code",
   "execution_count": 4,
   "metadata": {},
   "outputs": [
    {
     "data": {
      "text/plain": [
       "50.783"
      ]
     },
     "execution_count": 4,
     "metadata": {},
     "output_type": "execute_result"
    }
   ],
   "source": [
    "import numpy as np\n",
    "\n",
    "def dice_variance(d):\n",
    "    a = np.array(list(map(d.roll, range(10_000))))\n",
    "    return a.mean()\n",
    "    \n",
    "dice_variance(Dice(num_faces=[100]))"
   ]
  },
  {
   "cell_type": "code",
   "execution_count": 3,
   "metadata": {},
   "outputs": [
    {
     "name": "stdout",
     "output_type": "stream",
     "text": [
      "Mismatch with ability con: bonus=0, score=15\n",
      "Legacy type attack params (list) given: ['tentacle', 9, 5, 6, 6]\n",
      "Legacy type attack params (list) given: ['tentacle', 9, 5, 6, 6]\n",
      "Legacy type attack params (list) given: ['tentacle', 9, 5, 6, 6]\n",
      "Mismatch with ability str: bonus=0, score=8\n",
      "Mismatch with ability dex: bonus=0, score=14\n",
      "Mismatch with ability con: bonus=1, score=10\n",
      "Mismatch with ability int: bonus=0, score=4\n",
      "Mismatch with ability cha: bonus=0, score=6\n",
      "Legacy type attack params (list) given: ['Peck', 2, 0, 4]\n",
      "['AttackType.melee \"multiattack\" of aboleth']\n",
      "Mismatch with ability con: bonus=0, score=14\n",
      "Mismatch with ability wis: bonus=0, score=8\n",
      "Mismatch with ability cha: bonus=0, score=8\n",
      "Legacy type attack params (list) given: ['Bite', 3, 1, 4]\n",
      "Legacy type attack params (list) given: ['Claws', 2, 1, 6]\n",
      "Legacy type attack params (list) given: ['Ember', 4, 1, 10]\n",
      "Encounter Encounter featuring ['Fire-tail Wyrmling: UNTESTED IN BATTLE']\n"
     ]
    }
   ],
   "source": [
    "from DnD_battler import Creature, Encounter, log\n",
    "import logging\n",
    "log.handlers[0].setLevel(logging.DEBUG)\n",
    "\n",
    "aboleth = Creature.load('aboleth') # get from beastiary\n",
    "plantosaurus = Creature.load('Redcrest Hatchling') # get from beastiary\n",
    "print(list(map(str, aboleth.actions)))\n",
    "\n",
    "from DnD_battler import Encounter\n",
    "\n",
    "print(Encounter('Fire-tail Wyrmling'))"
   ]
  },
  {
   "cell_type": "code",
   "execution_count": 4,
   "metadata": {},
   "outputs": [
    {
     "name": "stdout",
     "output_type": "stream",
     "text": [
      "Mismatch with ability str: bonus=2, score=12\n",
      "Mismatch with ability con: bonus=0, score=14\n",
      "Mismatch with ability wis: bonus=1, score=10\n",
      "Mismatch with ability cha: bonus=0, score=8\n",
      "Legacy type attack params (list) given: ['Bite', 2, 1, 4]\n",
      "Legacy type attack params (list) given: ['Claws', 2, 1, 6]\n",
      "Mismatch with ability str: bonus=3, score=15\n",
      "Mismatch with ability con: bonus=1, score=16\n",
      "Mismatch with ability wis: bonus=1, score=10\n",
      "Mismatch with ability int: bonus=1, score=10\n",
      "Legacy type attack params (list) given: ['Bite', 5, 2, 8]\n",
      "Legacy type attack params (list) given: ['Claws', 5, 2, 8]\n",
      "Legacy type attack params (list) given: ['Thorn Whip', 6, 3, 6]\n",
      "Mismatch with ability str: bonus=6, score=16\n",
      "Mismatch with ability con: bonus=1, score=18\n",
      "Mismatch with ability int: bonus=1, score=10\n",
      "Mismatch with ability cha: bonus=0, score=12\n",
      "Legacy type attack params (list) given: ['Bite', 9, 4, 6]\n",
      "Legacy type attack params (list) given: ['Claws', 9, 4, 8]\n",
      "Legacy type attack params (list) given: ['Thorn Whip', 11, 4, 6]\n",
      "Legacy type attack params (list) given: ['Razor Leaf', 11, 4, 10]\n",
      "Mismatch with ability con: bonus=0, score=14\n",
      "Mismatch with ability wis: bonus=0, score=8\n",
      "Mismatch with ability cha: bonus=0, score=8\n",
      "Legacy type attack params (list) given: ['Bite', 3, 1, 4]\n",
      "Legacy type attack params (list) given: ['Claws', 2, 1, 6]\n",
      "Legacy type attack params (list) given: ['Ember', 4, 1, 10]\n",
      "Mismatch with ability str: bonus=3, score=15\n",
      "Mismatch with ability dex: bonus=0, score=12\n",
      "Mismatch with ability con: bonus=1, score=16\n",
      "Mismatch with ability wis: bonus=1, score=8\n",
      "Mismatch with ability cha: bonus=0, score=8\n",
      "Legacy type attack params (list) given: ['Bite', 5, 2, 8]\n",
      "Legacy type attack params (list) given: ['Claws', 5, 2, 10]\n",
      "Legacy type attack params (list) given: ['Ember', 6, 3, 10]\n",
      "Mismatch with ability str: bonus=8, score=20\n",
      "Mismatch with ability dex: bonus=0, score=12\n",
      "Mismatch with ability con: bonus=2, score=16\n",
      "Mismatch with ability wis: bonus=2, score=10\n",
      "Mismatch with ability int: bonus=1, score=15\n",
      "Mismatch with ability cha: bonus=0, score=12\n",
      "Legacy type attack params (list) given: ['Bite', 8, 3, 10]\n",
      "Legacy type attack params (list) given: ['Claws', 8, 3, 10]\n",
      "Legacy type attack params (list) given: ['Ember', 8, 4, 10]\n",
      "Legacy type attack params (list) given: ['Fire Breath', 9, 5, 12]\n",
      "Mismatch with ability str: bonus=3, score=12\n",
      "Mismatch with ability dex: bonus=0, score=12\n",
      "Mismatch with ability con: bonus=1, score=16\n",
      "Mismatch with ability wis: bonus=0, score=12\n",
      "Mismatch with ability int: bonus=1, score=10\n",
      "Legacy type attack params (list) given: ['Bite', 3, 1, 4]\n",
      "Legacy type attack params (list) given: ['Water Blast', 5, 3, 6]\n",
      "Mismatch with ability str: bonus=4, score=14\n",
      "Mismatch with ability dex: bonus=0, score=12\n",
      "Mismatch with ability con: bonus=2, score=18\n",
      "Mismatch with ability wis: bonus=0, score=12\n",
      "Mismatch with ability int: bonus=0, score=12\n",
      "Legacy type attack params (list) given: ['Bite', 6, 4, 6]\n",
      "Legacy type attack params (list) given: ['Shell Slam', 7, 4, 10]\n",
      "Mismatch with ability str: bonus=6, score=16\n",
      "Mismatch with ability dex: bonus=0, score=12\n",
      "Mismatch with ability con: bonus=2, score=20\n",
      "Mismatch with ability wis: bonus=0, score=14\n",
      "Mismatch with ability int: bonus=0, score=14\n",
      "Mismatch with ability cha: bonus=0, score=12\n",
      "Legacy type attack params (list) given: ['Bite', 9, 5, 10]\n",
      "Legacy type attack params (list) given: ['Shell Slam', 11, 6, 12]\n",
      "Prediction unavailable for more than 2 teams\n",
      "==NEW BATTLE==\n",
      "Turn order: ['Giant Chelonian Young', 'Fire-tail Adult', 'Giant Chelonian', 'Plantosaurus Adult', 'Giant Chelonian Adult', 'Plantosaurus Young', 'Plantosaurus Hatchling', 'Fire-tail Young', 'Fire-tail Wyrmling']\n",
      "**NEW ROUND**\n",
      "Giant Chelonian Young attacks Plantosaurus Hatchling with multiattack\n",
      "Bite attacks Plantosaurus Hatchling with Bite\n",
      "Plantosaurus Hatchling took 18 of damage. Now on 4 hp.\n",
      "Giant Chelonian Young dealt 18 to Plantosaurus Hatchling\n",
      "Shell Slam attacks Plantosaurus Hatchling with Shell Slam\n",
      "Plantosaurus Hatchling took 16 of damage. Now on -12 hp.\n",
      "Giant Chelonian Young dealt 16 to Plantosaurus Hatchling\n",
      "Fire-tail Adult attacks Giant Chelonian with multiattack\n",
      "Bite attacks Giant Chelonian with Bite\n",
      "Giant Chelonian took 21 of damage. Now on 24 hp.\n",
      "Fire-tail Adult dealt 21 to Giant Chelonian\n",
      "Claws attacks Giant Chelonian with Claws\n",
      "Giant Chelonian took 24 of damage. Now on 0 hp.\n",
      "Fire-tail Adult dealt 24 to Giant Chelonian\n",
      "Ember attacks Plantosaurus Young with Ember\n",
      "Plantosaurus Young took 26 of damage. Now on 49 hp.\n",
      "Fire-tail Adult dealt 26 to Plantosaurus Young\n",
      "Fire Breath attacks Plantosaurus Young with Fire Breath\n",
      "Plantosaurus Young took 26 of damage. Now on 23 hp.\n",
      "Fire-tail Adult dealt 26 to Plantosaurus Young\n",
      "Plantosaurus Adult attacks Fire-tail Wyrmling with multiattack\n",
      "Bite attacks Fire-tail Wyrmling with Bite\n",
      "Fire-tail Wyrmling took 19 of damage. Now on 14 hp.\n",
      "Plantosaurus Adult dealt 19 to Fire-tail Wyrmling\n",
      "Claws attacks Fire-tail Wyrmling with Claws\n",
      "Fire-tail Wyrmling took 17 of damage. Now on -3 hp.\n",
      "Plantosaurus Adult dealt 17 to Fire-tail Wyrmling\n",
      "Thorn Whip attacks Fire-tail Young with Thorn Whip\n",
      "Fire-tail Young took 16 of damage. Now on 62 hp.\n",
      "Plantosaurus Adult dealt 16 to Fire-tail Young\n",
      "Razor Leaf attacks Fire-tail Young with Razor Leaf\n",
      "Fire-tail Young took 18 of damage. Now on 44 hp.\n",
      "Plantosaurus Adult dealt 18 to Fire-tail Young\n",
      "Giant Chelonian Adult attacks Plantosaurus Young with multiattack\n",
      "Bite attacks Plantosaurus Young with Bite\n",
      "Plantosaurus Young took 18 of damage. Now on 5 hp.\n",
      "Giant Chelonian Adult dealt 18 to Plantosaurus Young\n",
      "Shell Slam attacks Plantosaurus Young with Shell Slam\n",
      "Crit!\n",
      "Plantosaurus Young took 40 of damage. Now on -35 hp.\n",
      "Giant Chelonian Adult dealt 40 to Plantosaurus Young\n",
      "Fire-tail Young attacks Giant Chelonian Young with multiattack\n",
      "Bite attacks Giant Chelonian Young with Bite\n",
      "Fire-tail Young missed Giant Chelonian Young\n",
      "Claws attacks Giant Chelonian Young with Claws\n",
      "Giant Chelonian Young took 14 of damage. Now on 81 hp.\n",
      "Fire-tail Young dealt 14 to Giant Chelonian Young\n",
      "Ember attacks Giant Chelonian Young with Ember\n",
      "Giant Chelonian Young took 16 of damage. Now on 65 hp.\n",
      "Fire-tail Young dealt 16 to Giant Chelonian Young\n",
      "**NEW ROUND**\n",
      "Giant Chelonian Young attacks Fire-tail Young with multiattack\n",
      "Bite attacks Fire-tail Young with Bite\n",
      "Fire-tail Young took 16 of damage. Now on 28 hp.\n",
      "Giant Chelonian Young dealt 16 to Fire-tail Young\n",
      "Shell Slam attacks Fire-tail Young with Shell Slam\n",
      "Giant Chelonian Young missed Fire-tail Young\n",
      "Fire-tail Adult attacks Giant Chelonian Young with multiattack\n",
      "Bite attacks Giant Chelonian Young with Bite\n",
      "Giant Chelonian Young took 20 of damage. Now on 45 hp.\n",
      "Fire-tail Adult dealt 20 to Giant Chelonian Young\n",
      "Claws attacks Giant Chelonian Young with Claws\n",
      "Giant Chelonian Young took 17 of damage. Now on 28 hp.\n",
      "Fire-tail Adult dealt 17 to Giant Chelonian Young\n",
      "Ember attacks Giant Chelonian Young with Ember\n",
      "Giant Chelonian Young took 25 of damage. Now on 3 hp.\n",
      "Fire-tail Adult dealt 25 to Giant Chelonian Young\n",
      "Fire Breath attacks Giant Chelonian Young with Fire Breath\n",
      "Giant Chelonian Young took 20 of damage. Now on -17 hp.\n",
      "Fire-tail Adult dealt 20 to Giant Chelonian Young\n",
      "Plantosaurus Adult attacks Fire-tail Young with multiattack\n",
      "Bite attacks Fire-tail Young with Bite\n",
      "Fire-tail Young took 16 of damage. Now on 12 hp.\n",
      "Plantosaurus Adult dealt 16 to Fire-tail Young\n",
      "Claws attacks Fire-tail Young with Claws\n",
      "Fire-tail Young took 15 of damage. Now on -3 hp.\n",
      "Plantosaurus Adult dealt 15 to Fire-tail Young\n",
      "Thorn Whip attacks Giant Chelonian Adult with Thorn Whip\n",
      "Giant Chelonian Adult took 19 of damage. Now on 146 hp.\n",
      "Plantosaurus Adult dealt 19 to Giant Chelonian Adult\n",
      "Razor Leaf attacks Giant Chelonian Adult with Razor Leaf\n",
      "Giant Chelonian Adult took 18 of damage. Now on 128 hp.\n",
      "Plantosaurus Adult dealt 18 to Giant Chelonian Adult\n",
      "Giant Chelonian Adult attacks Plantosaurus Adult with multiattack\n",
      "Bite attacks Plantosaurus Adult with Bite\n",
      "Plantosaurus Adult took 18 of damage. Now on 153 hp.\n",
      "Giant Chelonian Adult dealt 18 to Plantosaurus Adult\n",
      "Shell Slam attacks Plantosaurus Adult with Shell Slam\n",
      "Crit!\n",
      "Plantosaurus Adult took 46 of damage. Now on 107 hp.\n",
      "Giant Chelonian Adult dealt 46 to Plantosaurus Adult\n",
      "**NEW ROUND**\n",
      "Fire-tail Adult attacks Plantosaurus Adult with multiattack\n",
      "Bite attacks Plantosaurus Adult with Bite\n",
      "Plantosaurus Adult took 22 of damage. Now on 85 hp.\n",
      "Fire-tail Adult dealt 22 to Plantosaurus Adult\n",
      "Claws attacks Plantosaurus Adult with Claws\n",
      "Plantosaurus Adult took 15 of damage. Now on 70 hp.\n",
      "Fire-tail Adult dealt 15 to Plantosaurus Adult\n",
      "Ember attacks Plantosaurus Adult with Ember\n",
      "Plantosaurus Adult took 17 of damage. Now on 53 hp.\n",
      "Fire-tail Adult dealt 17 to Plantosaurus Adult\n",
      "Fire Breath attacks Plantosaurus Adult with Fire Breath\n",
      "Plantosaurus Adult took 22 of damage. Now on 31 hp.\n",
      "Fire-tail Adult dealt 22 to Plantosaurus Adult\n",
      "Plantosaurus Adult attacks Giant Chelonian Adult with multiattack\n",
      "Bite attacks Giant Chelonian Adult with Bite\n",
      "Giant Chelonian Adult took 15 of damage. Now on 113 hp.\n",
      "Plantosaurus Adult dealt 15 to Giant Chelonian Adult\n",
      "Claws attacks Giant Chelonian Adult with Claws\n",
      "Giant Chelonian Adult took 16 of damage. Now on 97 hp.\n",
      "Plantosaurus Adult dealt 16 to Giant Chelonian Adult\n",
      "Thorn Whip attacks Giant Chelonian Adult with Thorn Whip\n",
      "Giant Chelonian Adult took 19 of damage. Now on 78 hp.\n",
      "Plantosaurus Adult dealt 19 to Giant Chelonian Adult\n",
      "Razor Leaf attacks Giant Chelonian Adult with Razor Leaf\n",
      "Giant Chelonian Adult took 18 of damage. Now on 60 hp.\n",
      "Plantosaurus Adult dealt 18 to Giant Chelonian Adult\n",
      "Giant Chelonian Adult attacks Plantosaurus Adult with multiattack\n",
      "Bite attacks Plantosaurus Adult with Bite\n",
      "Plantosaurus Adult took 24 of damage. Now on 7 hp.\n",
      "Giant Chelonian Adult dealt 24 to Plantosaurus Adult\n",
      "Shell Slam attacks Plantosaurus Adult with Shell Slam\n",
      "Crit!\n",
      "Plantosaurus Adult took 36 of damage. Now on -29 hp.\n",
      "Giant Chelonian Adult dealt 36 to Plantosaurus Adult\n",
      "**NEW ROUND**\n",
      "Fire-tail Adult attacks Giant Chelonian Adult with multiattack\n",
      "Bite attacks Giant Chelonian Adult with Bite\n",
      "Giant Chelonian Adult took 19 of damage. Now on 41 hp.\n",
      "Fire-tail Adult dealt 19 to Giant Chelonian Adult\n",
      "Claws attacks Giant Chelonian Adult with Claws\n",
      "Giant Chelonian Adult took 15 of damage. Now on 26 hp.\n",
      "Fire-tail Adult dealt 15 to Giant Chelonian Adult\n",
      "Ember attacks Giant Chelonian Adult with Ember\n",
      "Giant Chelonian Adult took 23 of damage. Now on 3 hp.\n",
      "Fire-tail Adult dealt 23 to Giant Chelonian Adult\n",
      "Fire Breath attacks Giant Chelonian Adult with Fire Breath\n",
      "Giant Chelonian Adult took 21 of damage. Now on -18 hp.\n",
      "Fire-tail Adult dealt 21 to Giant Chelonian Adult\n",
      "**NEW ROUND**\n",
      "Encounter Encounter featuring ['Giant Chelonian Young: {team=unaligned; avg hp=-17.0 (from 95); avg healing spells left=0.0 (from 0); damage done (per battle average)= 50.0; hits/misses (PBA)= 3.0/1.0; rounds (PBA)=2.0;}', 'Fire-tail Adult: {team=neutral; avg hp=204.0 (from 204); avg healing spells left=0.0 (from 0); damage done (per battle average)= 333.0; hits/misses (PBA)= 16.0/0.0; rounds (PBA)=5.0;}', 'Giant Chelonian: {team=unaligned; avg hp=0.0 (from 45); avg healing spells left=0.0 (from 0); damage done (per battle average)= 0.0; hits/misses (PBA)= 0.0/0.0; rounds (PBA)=0.0;}', 'Plantosaurus Adult: {team=neutral good; avg hp=-29.0 (from 171); avg healing spells left=0.0 (from 0); damage done (per battle average)= 206.0; hits/misses (PBA)= 12.0/0.0; rounds (PBA)=3.0;}', 'Giant Chelonian Adult: {team=unaligned; avg hp=-18.0 (from 165); avg healing spells left=0.0 (from 0); damage done (per battle average)= 182.0; hits/misses (PBA)= 6.0/0.0; rounds (PBA)=3.0;}', 'Plantosaurus Young: {team=neutral good; avg hp=-35.0 (from 75); avg healing spells left=0.0 (from 0); damage done (per battle average)= 0.0; hits/misses (PBA)= 0.0/0.0; rounds (PBA)=0.0;}', 'Plantosaurus Hatchling: {team=neutral good; avg hp=-12.0 (from 22); avg healing spells left=0.0 (from 0); damage done (per battle average)= 0.0; hits/misses (PBA)= 0.0/0.0; rounds (PBA)=0.0;}', 'Fire-tail Young: {team=neutral; avg hp=-3.0 (from 78); avg healing spells left=0.0 (from 0); damage done (per battle average)= 30.0; hits/misses (PBA)= 2.0/1.0; rounds (PBA)=1.0;}', 'Fire-tail Wyrmling: {team=neutral; avg hp=-3.0 (from 33); avg healing spells left=0.0 (from 0); damage done (per battle average)= 0.0; hits/misses (PBA)= 0.0/0.0; rounds (PBA)=0.0;}']\n",
      "Encounter Encounter featuring ['Giant Chelonian Young: {team=unaligned; avg hp=-17.0 (from 95); avg healing spells left=0.0 (from 0); damage done (per battle average)= 50.0; hits/misses (PBA)= 3.0/1.0; rounds (PBA)=2.0;}', 'Fire-tail Adult: {team=neutral; avg hp=204.0 (from 204); avg healing spells left=0.0 (from 0); damage done (per battle average)= 333.0; hits/misses (PBA)= 16.0/0.0; rounds (PBA)=5.0;}', 'Giant Chelonian: {team=unaligned; avg hp=0.0 (from 45); avg healing spells left=0.0 (from 0); damage done (per battle average)= 0.0; hits/misses (PBA)= 0.0/0.0; rounds (PBA)=0.0;}', 'Plantosaurus Adult: {team=neutral good; avg hp=-29.0 (from 171); avg healing spells left=0.0 (from 0); damage done (per battle average)= 206.0; hits/misses (PBA)= 12.0/0.0; rounds (PBA)=3.0;}', 'Giant Chelonian Adult: {team=unaligned; avg hp=-18.0 (from 165); avg healing spells left=0.0 (from 0); damage done (per battle average)= 182.0; hits/misses (PBA)= 6.0/0.0; rounds (PBA)=3.0;}', 'Plantosaurus Young: {team=neutral good; avg hp=-35.0 (from 75); avg healing spells left=0.0 (from 0); damage done (per battle average)= 0.0; hits/misses (PBA)= 0.0/0.0; rounds (PBA)=0.0;}', 'Plantosaurus Hatchling: {team=neutral good; avg hp=-12.0 (from 22); avg healing spells left=0.0 (from 0); damage done (per battle average)= 0.0; hits/misses (PBA)= 0.0/0.0; rounds (PBA)=0.0;}', 'Fire-tail Young: {team=neutral; avg hp=-3.0 (from 78); avg healing spells left=0.0 (from 0); damage done (per battle average)= 30.0; hits/misses (PBA)= 2.0/1.0; rounds (PBA)=1.0;}', 'Fire-tail Wyrmling: {team=neutral; avg hp=-3.0 (from 33); avg healing spells left=0.0 (from 0); damage done (per battle average)= 0.0; hits/misses (PBA)= 0.0/0.0; rounds (PBA)=0.0;}']\n"
     ]
    }
   ],
   "source": [
    "from DnD_battler import Creature, Encounter, log\n",
    "import logging\n",
    "log.handlers[0].setLevel(logging.DEBUG)\n",
    "plantosaurus_hatchling = Creature.load('Plantosaurus Hatchling')\n",
    "plantosaurus_young = Creature.load('Plantosaurus Young')\n",
    "plantosaurus_adult = Creature.load('Plantosaurus Adult')\n",
    "\n",
    "fire_tail_wyrmling = Creature.load('Fire-tail Wyrmling')\n",
    "fire_tail_young = Creature.load('Fire-tail Young')\n",
    "fire_tail_adult = Creature.load('Fire-tail Adult')\n",
    "\n",
    "giant_chelonian = Creature.load('Giant Chelonian')\n",
    "giant_chelonian_young = Creature.load('Giant Chelonian Young')\n",
    "giant_chelonian_adult = Creature.load('Giant Chelonian Adult')\n",
    "\n",
    "arena2 = Encounter(plantosaurus_hatchling, plantosaurus_young, plantosaurus_adult, fire_tail_young, fire_tail_wyrmling, fire_tail_adult, giant_chelonian, giant_chelonian_young, giant_chelonian_adult)\n",
    "print(arena2.predict())\n",
    "print(arena2.battle())"
   ]
  },
  {
   "cell_type": "code",
   "execution_count": 3,
   "metadata": {},
   "outputs": [
    {
     "data": {
      "text/plain": [
       "'basilisk'"
      ]
     },
     "execution_count": 3,
     "metadata": {},
     "output_type": "execute_result"
    }
   ],
   "source": [
    "level1.attacks[0].find_targets().name"
   ]
  },
  {
   "cell_type": "code",
   "execution_count": 5,
   "metadata": {},
   "outputs": [
    {
     "data": {
      "text/plain": [
       "False"
      ]
     },
     "execution_count": 5,
     "metadata": {},
     "output_type": "execute_result"
    }
   ],
   "source": [
    "able = AbilityDie()\n",
    "max([able.roll(success_on_crit=False) for i in range(50)]) == float('inf')"
   ]
  },
  {
   "cell_type": "code",
   "execution_count": 6,
   "metadata": {},
   "outputs": [
    {
     "ename": "NameError",
     "evalue": "name 'attack' is not defined",
     "output_type": "error",
     "traceback": [
      "\u001b[0;31m---------------------------------------------------------------------------\u001b[0m",
      "\u001b[0;31mNameError\u001b[0m                                 Traceback (most recent call last)",
      "\u001b[0;32m/var/folders/c8/7hcbs7sx56z3bqg9vqhd7c0r0000gp/T/ipykernel_23277/1997742670.py\u001b[0m in \u001b[0;36m<module>\u001b[0;34m\u001b[0m\n\u001b[0;32m----> 1\u001b[0;31m \u001b[0msum\u001b[0m\u001b[0;34m(\u001b[0m\u001b[0;34m[\u001b[0m\u001b[0mattack\u001b[0m\u001b[0;34m.\u001b[0m\u001b[0mroll\u001b[0m\u001b[0;34m(\u001b[0m\u001b[0madvantage\u001b[0m\u001b[0;34m=\u001b[0m\u001b[0;34m-\u001b[0m\u001b[0;36m1\u001b[0m\u001b[0;34m)\u001b[0m \u001b[0;34m==\u001b[0m \u001b[0;36m5\u001b[0m \u001b[0;32mfor\u001b[0m \u001b[0mi\u001b[0m \u001b[0;32min\u001b[0m \u001b[0mrange\u001b[0m\u001b[0;34m(\u001b[0m\u001b[0;36m10000\u001b[0m\u001b[0;34m)\u001b[0m\u001b[0;34m]\u001b[0m\u001b[0;34m)\u001b[0m \u001b[0;34m/\u001b[0m \u001b[0;36m10000\u001b[0m\u001b[0;34m\u001b[0m\u001b[0;34m\u001b[0m\u001b[0m\n\u001b[0m",
      "\u001b[0;32m/var/folders/c8/7hcbs7sx56z3bqg9vqhd7c0r0000gp/T/ipykernel_23277/1997742670.py\u001b[0m in \u001b[0;36m<listcomp>\u001b[0;34m(.0)\u001b[0m\n\u001b[0;32m----> 1\u001b[0;31m \u001b[0msum\u001b[0m\u001b[0;34m(\u001b[0m\u001b[0;34m[\u001b[0m\u001b[0mattack\u001b[0m\u001b[0;34m.\u001b[0m\u001b[0mroll\u001b[0m\u001b[0;34m(\u001b[0m\u001b[0madvantage\u001b[0m\u001b[0;34m=\u001b[0m\u001b[0;34m-\u001b[0m\u001b[0;36m1\u001b[0m\u001b[0;34m)\u001b[0m \u001b[0;34m==\u001b[0m \u001b[0;36m5\u001b[0m \u001b[0;32mfor\u001b[0m \u001b[0mi\u001b[0m \u001b[0;32min\u001b[0m \u001b[0mrange\u001b[0m\u001b[0;34m(\u001b[0m\u001b[0;36m10000\u001b[0m\u001b[0;34m)\u001b[0m\u001b[0;34m]\u001b[0m\u001b[0;34m)\u001b[0m \u001b[0;34m/\u001b[0m \u001b[0;36m10000\u001b[0m\u001b[0;34m\u001b[0m\u001b[0;34m\u001b[0m\u001b[0m\n\u001b[0m",
      "\u001b[0;31mNameError\u001b[0m: name 'attack' is not defined"
     ]
    }
   ],
   "source": [
    "sum([attack.roll(advantage=-1) == 5 for i in range(10000)]) / 10000"
   ]
  },
  {
   "cell_type": "code",
   "execution_count": 67,
   "metadata": {},
   "outputs": [
    {
     "data": {
      "text/plain": [
       "(0, 1, 0)"
      ]
     },
     "execution_count": 67,
     "metadata": {},
     "output_type": "execute_result"
    }
   ],
   "source": [
    "attack.ability_die.bonus, attack.ability_die.proficiency.bonus, attack.modifier"
   ]
  },
  {
   "cell_type": "code",
   "execution_count": 63,
   "metadata": {},
   "outputs": [
    {
     "data": {
      "text/plain": [
       "0.0"
      ]
     },
     "execution_count": 63,
     "metadata": {},
     "output_type": "execute_result"
    }
   ],
   "source": [
    "sum([attack.base_roll(advantage=0) == 2 for i in range(10000)])/10000 "
   ]
  },
  {
   "cell_type": "code",
   "execution_count": 4,
   "metadata": {},
   "outputs": [
    {
     "data": {
      "text/plain": [
       "11"
      ]
     },
     "execution_count": 4,
     "metadata": {},
     "output_type": "execute_result"
    }
   ],
   "source": [
    "able.base_roll(advantage=-1)"
   ]
  },
  {
   "cell_type": "code",
   "execution_count": 96,
   "metadata": {},
   "outputs": [],
   "source": [
    "import logging, io\n",
    "\n",
    "stream = io.StringIO('foo')\n",
    "log = logging.getLogger('foo')\n",
    "log.addHandler(logging.StreamHandler(stream))\n",
    "\n",
    "stream2 = io.StringIO('bar')\n",
    "log2 = logging.getLogger('bar')\n",
    "log2.addHandler(logging.StreamHandler(stream2))\n",
    "\n",
    "log.info('bing')\n",
    "log.error('Xorg')\n",
    "log.error('Xorg')"
   ]
  },
  {
   "cell_type": "code",
   "execution_count": 102,
   "metadata": {},
   "outputs": [
    {
     "data": {
      "text/plain": [
       "10"
      ]
     },
     "execution_count": 102,
     "metadata": {},
     "output_type": "execute_result"
    }
   ],
   "source": [
    "class Foo:\n",
    "    bar = property(lambda self: 'bar', lambda self, value: )\n"
   ]
  },
  {
   "cell_type": "code",
   "execution_count": 97,
   "metadata": {},
   "outputs": [
    {
     "data": {
      "text/plain": [
       "'Xorg\\nXorg\\n'"
      ]
     },
     "execution_count": 97,
     "metadata": {},
     "output_type": "execute_result"
    }
   ],
   "source": [
    "stream.seek(0)\n",
    "stream.read()"
   ]
  },
  {
   "cell_type": "code",
   "execution_count": 52,
   "metadata": {},
   "outputs": [
    {
     "data": {
      "text/plain": [
       "{'twinned': None,\n",
       " 'role': 'damage',\n",
       " 'critable': 0,\n",
       " 'bonus': 0,\n",
       " 'num_faces': [20],\n",
       " 'advantage': 0,\n",
       " 'crit': 0,\n",
       " 'avg': False}"
      ]
     },
     "execution_count": 52,
     "metadata": {},
     "output_type": "execute_result"
    }
   ],
   "source": [
    "from copy import deepcopy\n",
    "\n",
    "d2 = deepcopy(d)\n",
    "d2.num_faces = [20]\n",
    "\n",
    "d2.__dict__"
   ]
  },
  {
   "cell_type": "code",
   "execution_count": 78,
   "metadata": {},
   "outputs": [
    {
     "data": {
      "text/plain": [
       "132"
      ]
     },
     "execution_count": 78,
     "metadata": {},
     "output_type": "execute_result"
    }
   ],
   "source": [
    "d.crit = 1\n",
    "d.multiroll()"
   ]
  },
  {
   "cell_type": "code",
   "execution_count": 79,
   "metadata": {},
   "outputs": [
    {
     "ename": "ValueError",
     "evalue": "invalid literal for int() with base 10: 'inf'",
     "output_type": "error",
     "traceback": [
      "\u001b[0;31m---------------------------------------------------------------------------\u001b[0m",
      "\u001b[0;31mValueError\u001b[0m                                Traceback (most recent call last)",
      "\u001b[0;32m<ipython-input-79-f859f82dc24a>\u001b[0m in \u001b[0;36m<module>\u001b[0;34m\u001b[0m\n\u001b[0;32m----> 1\u001b[0;31m \u001b[0mint\u001b[0m\u001b[0;34m(\u001b[0m\u001b[0;34m'inf'\u001b[0m\u001b[0;34m)\u001b[0m\u001b[0;34m\u001b[0m\u001b[0;34m\u001b[0m\u001b[0m\n\u001b[0m",
      "\u001b[0;31mValueError\u001b[0m: invalid literal for int() with base 10: 'inf'"
     ]
    }
   ],
   "source": [
    "def cast_barkskin(self):\n",
    "    if self.concentrating == 0:\n",
    "        self.temp = self.armor.ac\n",
    "        self.armor.ac = 16\n",
    "        self.concentrating = 1\n",
    "    elif self.concentrating == 1:\n",
    "        self.armor.ac = self.temp\n",
    "        self.concentrating = 0\n",
    "        \n",
    "        \n",
    "class Spell:\n",
    "    def __init__(self, is_concentration=True, duration:int=1):\n",
    "        self.is_concentration = is_concentration\n",
    "        self.duration\n",
    "    \n",
    "    def cast(self):\n",
    "        pass\n",
    "    \n",
    "    def stop(self):\n",
    "        self.concentrating = 0"
   ]
  },
  {
   "cell_type": "code",
   "execution_count": 34,
   "metadata": {},
   "outputs": [
    {
     "ename": "AttackRangeError",
     "evalue": "The attack is out of range (10)",
     "output_type": "error",
     "traceback": [
      "\u001b[0;31m---------------------------------------------------------------------------\u001b[0m",
      "\u001b[0;31mAttackRangeError\u001b[0m                          Traceback (most recent call last)",
      "\u001b[0;32m<ipython-input-34-893c426a3578>\u001b[0m in \u001b[0;36m<module>\u001b[0;34m\u001b[0m\n\u001b[1;32m     13\u001b[0m         \u001b[0msuper\u001b[0m\u001b[0;34m(\u001b[0m\u001b[0;34m)\u001b[0m\u001b[0;34m.\u001b[0m\u001b[0m__init__\u001b[0m\u001b[0;34m(\u001b[0m\u001b[0;34mf'The attack is out of range ({self.range})'\u001b[0m\u001b[0;34m)\u001b[0m\u001b[0;34m\u001b[0m\u001b[0;34m\u001b[0m\u001b[0m\n\u001b[1;32m     14\u001b[0m \u001b[0;34m\u001b[0m\u001b[0m\n\u001b[0;32m---> 15\u001b[0;31m \u001b[0;32mraise\u001b[0m \u001b[0mAttackRangeError\u001b[0m\u001b[0;34m(\u001b[0m\u001b[0;36m10\u001b[0m\u001b[0;34m)\u001b[0m\u001b[0;34m\u001b[0m\u001b[0;34m\u001b[0m\u001b[0m\n\u001b[0m",
      "\u001b[0;31mAttackRangeError\u001b[0m: The attack is out of range (10)"
     ]
    }
   ],
   "source": [
    "class ActionError(Exception):\n",
    "    \"\"\"\n",
    "    The attempted action could not be done.\n",
    "    \"\"\"\n",
    "    pass\n",
    "\n",
    "class AttackRangeError(ActionError):\n",
    "    \"\"\"\n",
    "    The attempted attack could not be done.\n",
    "    \"\"\"\n",
    "    def __init__(self, range:int):\n",
    "        self.range = range\n",
    "        super().__init__(f'The attack is out of range ({self.range} ft)')\n",
    "        \n",
    "raise AttackRangeError(10)"
   ]
  },
  {
   "cell_type": "code",
   "execution_count": null,
   "metadata": {},
   "outputs": [],
   "source": [
    "class Spell:\n",
    "    \n",
    "    def __init__(self, on_fx, off_fx):\n",
    "        self.concentrating = 0 # not concentrating\n",
    "        self.max_concentrating = 1  # magic items allow multiconcentration...\n",
    "        self.on_fx = None\n",
    "        self.off_fx = None\n",
    "        \n",
    "    def cast(self, activate:Callable, deactivate:Callable):\n",
    "        if self.concentrating <= self.max_concentrating:\n",
    "            raise Exception\n",
    "        self.on_fx = activate"
   ]
  },
  {
   "cell_type": "code",
   "execution_count": 6,
   "metadata": {},
   "outputs": [
    {
     "data": {
      "text/plain": [
       "'Achilles'"
      ]
     },
     "execution_count": 6,
     "metadata": {},
     "output_type": "execute_result"
    }
   ],
   "source": [
    "class Concentration:\n",
    "    \n",
    "    def __init__(self, on_fx, off_fx):\n",
    "        self.concentrating = 0 # not concentrating\n",
    "        self.max_concentrating = 1  # magic items allow multiconcentration...\n",
    "        self.on_fx = None\n",
    "        self.off_fx = None\n",
    "        \n",
    "    def cast(self, activate:Callable, deactivate:Callable):\n",
    "        if self.concentrating <= self.max_concentrating:\n",
    "            raise Exception\n",
    "        self.on_fx = activate"
   ]
  },
  {
   "cell_type": "code",
   "execution_count": null,
   "metadata": {},
   "outputs": [],
   "source": [
    "    def on_damage(self, attacker, opponent, amount:int):\n",
    "        \"\"\"\n",
    "        Method to be overridden. called on damage.\n",
    "        \n",
    "        :param attacker: who delt the damage\n",
    "        :type attacker: Creature\n",
    "        :param opponent: to whom the damage was delt\n",
    "        :type opponent: Creature\n",
    "        :param amount: \n",
    "        :return: \n",
    "        \"\"\"\n",
    "        pass"
   ]
  },
  {
   "cell_type": "code",
   "execution_count": 35,
   "metadata": {},
   "outputs": [],
   "source": [
    "class AttackType(Enum):\n",
    "    MELEE = 1\n",
    "    RANGED = 2\n",
    "    TARGET_SPELL = 3\n",
    "    AOE_SPELL = 4"
   ]
  },
  {
   "cell_type": "code",
   "execution_count": 54,
   "metadata": {},
   "outputs": [],
   "source": [
    "class AttackType(Enum):\n",
    "    # I hate uppercase Enum convension.\n",
    "    melee = 1\n",
    "    ranged = 2\n",
    "    target_spell = 3\n",
    "    aoe_spell = 4"
   ]
  },
  {
   "cell_type": "code",
   "execution_count": 57,
   "metadata": {},
   "outputs": [],
   "source": [
    "m = AttackType['melee']"
   ]
  },
  {
   "cell_type": "code",
   "execution_count": 47,
   "metadata": {},
   "outputs": [],
   "source": [
    "m.name = "
   ]
  },
  {
   "cell_type": "code",
   "execution_count": 48,
   "metadata": {},
   "outputs": [
    {
     "data": {
      "text/plain": [
       "<TargetChoice.enemy_dead_random: (-1, -1, 1)>"
      ]
     },
     "execution_count": 48,
     "metadata": {},
     "output_type": "execute_result"
    }
   ],
   "source": [
    "TargetChoice['enemy_dead_random']"
   ]
  }
 ],
 "metadata": {
  "kernelspec": {
   "display_name": ".venv",
   "language": "python",
   "name": "python3"
  },
  "language_info": {
   "codemirror_mode": {
    "name": "ipython",
    "version": 3
   },
   "file_extension": ".py",
   "mimetype": "text/x-python",
   "name": "python",
   "nbconvert_exporter": "python",
   "pygments_lexer": "ipython3",
   "version": "3.8.10"
  }
 },
 "nbformat": 4,
 "nbformat_minor": 2
}
